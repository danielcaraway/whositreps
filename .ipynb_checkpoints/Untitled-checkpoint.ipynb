{
 "cells": [
  {
   "cell_type": "code",
   "execution_count": 1,
   "metadata": {},
   "outputs": [],
   "source": [
    "import requests\n",
    "import lxml.html as lh\n",
    "import pandas as pd\n",
    "from bs4 import BeautifulSoup as bs\n",
    "\n",
    "url = \"https://www.who.int/emergencies/diseases/novel-coronavirus-2019/situation-reports/\"\n",
    "\n",
    "page = requests.get(url)\n",
    "soup= bs(page.content, \"html.parser\")\n",
    "\n",
    "content_block = soup.find(id=\"PageContent_C006_Col01\")\n",
    "content_block.findAll('a')\n",
    "\n",
    "urls = [x['href'] for x in content_block.findAll('a') if 'docs' in x['href']]"
   ]
  },
  {
   "cell_type": "code",
   "execution_count": 6,
   "metadata": {},
   "outputs": [
    {
     "name": "stdout",
     "output_type": "stream",
     "text": [
      "Requirement already satisfied: camelot-py[cv] in ./ocr-env/lib/python3.7/site-packages (0.7.3)\n",
      "Requirement already satisfied: openpyxl>=2.5.8 in ./ocr-env/lib/python3.7/site-packages (from camelot-py[cv]) (3.0.3)\n",
      "Requirement already satisfied: pandas>=0.23.4 in ./ocr-env/lib/python3.7/site-packages (from camelot-py[cv]) (1.0.3)\n",
      "Requirement already satisfied: chardet>=3.0.4 in ./ocr-env/lib/python3.7/site-packages (from camelot-py[cv]) (3.0.4)\n",
      "Requirement already satisfied: numpy>=1.13.3 in ./ocr-env/lib/python3.7/site-packages (from camelot-py[cv]) (1.18.2)\n",
      "Requirement already satisfied: PyPDF2>=1.26.0 in ./ocr-env/lib/python3.7/site-packages (from camelot-py[cv]) (1.26.0)\n",
      "Requirement already satisfied: click>=6.7 in ./ocr-env/lib/python3.7/site-packages (from camelot-py[cv]) (7.1.1)\n",
      "Requirement already satisfied: pdfminer.six>=20170720 in ./ocr-env/lib/python3.7/site-packages (from camelot-py[cv]) (20200124)\n",
      "Requirement already satisfied: opencv-python>=3.4.2.17; extra == \"cv\" in ./ocr-env/lib/python3.7/site-packages (from camelot-py[cv]) (4.2.0.32)\n",
      "Requirement already satisfied: jdcal in ./ocr-env/lib/python3.7/site-packages (from openpyxl>=2.5.8->camelot-py[cv]) (1.4.1)\n",
      "Requirement already satisfied: et_xmlfile in ./ocr-env/lib/python3.7/site-packages (from openpyxl>=2.5.8->camelot-py[cv]) (1.0.1)\n",
      "Requirement already satisfied: python-dateutil>=2.6.1 in ./ocr-env/lib/python3.7/site-packages (from pandas>=0.23.4->camelot-py[cv]) (2.8.1)\n",
      "Requirement already satisfied: pytz>=2017.2 in ./ocr-env/lib/python3.7/site-packages (from pandas>=0.23.4->camelot-py[cv]) (2019.3)\n",
      "Requirement already satisfied: pycryptodome in ./ocr-env/lib/python3.7/site-packages (from pdfminer.six>=20170720->camelot-py[cv]) (3.9.7)\n",
      "Requirement already satisfied: sortedcontainers in ./ocr-env/lib/python3.7/site-packages (from pdfminer.six>=20170720->camelot-py[cv]) (2.1.0)\n",
      "Requirement already satisfied: six>=1.5 in ./ocr-env/lib/python3.7/site-packages (from python-dateutil>=2.6.1->pandas>=0.23.4->camelot-py[cv]) (1.14.0)\n",
      "\u001b[33mYou are using pip version 19.0.3, however version 20.0.2 is available.\n",
      "You should consider upgrading via the 'pip install --upgrade pip' command.\u001b[0m\n"
     ]
    }
   ],
   "source": [
    "!pip install camelot-py[cv]\n"
   ]
  },
  {
   "cell_type": "code",
   "execution_count": 7,
   "metadata": {},
   "outputs": [
    {
     "ename": "ModuleNotFoundError",
     "evalue": "No module named 'camelot'",
     "output_type": "error",
     "traceback": [
      "\u001b[0;31m---------------------------------------------------------------------------\u001b[0m",
      "\u001b[0;31mModuleNotFoundError\u001b[0m                       Traceback (most recent call last)",
      "\u001b[0;32m<ipython-input-7-b746009044c0>\u001b[0m in \u001b[0;36m<module>\u001b[0;34m\u001b[0m\n\u001b[0;32m----> 1\u001b[0;31m \u001b[0;32mimport\u001b[0m \u001b[0mcamelot\u001b[0m\u001b[0;34m\u001b[0m\u001b[0;34m\u001b[0m\u001b[0m\n\u001b[0m\u001b[1;32m      2\u001b[0m \u001b[0mpdf\u001b[0m \u001b[0;34m=\u001b[0m \u001b[0;34m\"https://www.who.int\"\u001b[0m \u001b[0;34m+\u001b[0m \u001b[0murls\u001b[0m\u001b[0;34m[\u001b[0m\u001b[0;36m0\u001b[0m\u001b[0;34m]\u001b[0m\u001b[0;34m\u001b[0m\u001b[0;34m\u001b[0m\u001b[0m\n\u001b[1;32m      3\u001b[0m \u001b[0mtables\u001b[0m \u001b[0;34m=\u001b[0m \u001b[0mcamelot\u001b[0m\u001b[0;34m.\u001b[0m\u001b[0mread_pdf\u001b[0m\u001b[0;34m(\u001b[0m\u001b[0mpdf\u001b[0m\u001b[0;34m)\u001b[0m\u001b[0;34m\u001b[0m\u001b[0;34m\u001b[0m\u001b[0m\n",
      "\u001b[0;31mModuleNotFoundError\u001b[0m: No module named 'camelot'"
     ]
    }
   ],
   "source": [
    "import camelot\n",
    "pdf = \"https://www.who.int\" + urls[0]\n",
    "tables = camelot.read_pdf(pdf)"
   ]
  },
  {
   "cell_type": "code",
   "execution_count": 9,
   "metadata": {},
   "outputs": [
    {
     "name": "stdout",
     "output_type": "stream",
     "text": [
      "Collecting tabula-py\n",
      "\u001b[?25l  Downloading https://files.pythonhosted.org/packages/53/a4/66add528eca00398af98f181772006750019eb9f2d68c7c6fdd53ba661c5/tabula_py-2.1.0-py3-none-any.whl (10.4MB)\n",
      "\u001b[K    100% |████████████████████████████████| 10.4MB 1.4MB/s ta 0:00:01\n",
      "\u001b[?25hRequirement already satisfied: numpy in ./ocr-env/lib/python3.7/site-packages (from tabula-py) (1.18.2)\n",
      "Requirement already satisfied: pandas>=0.25.3 in ./ocr-env/lib/python3.7/site-packages (from tabula-py) (1.0.3)\n",
      "Collecting distro (from tabula-py)\n",
      "  Downloading https://files.pythonhosted.org/packages/ea/35/82f79b92fa4d937146c660a6482cee4f3dfa1f97ff3d2a6f3ecba33e712e/distro-1.4.0-py2.py3-none-any.whl\n",
      "Requirement already satisfied: python-dateutil>=2.6.1 in ./ocr-env/lib/python3.7/site-packages (from pandas>=0.25.3->tabula-py) (2.8.1)\n",
      "Requirement already satisfied: pytz>=2017.2 in ./ocr-env/lib/python3.7/site-packages (from pandas>=0.25.3->tabula-py) (2019.3)\n",
      "Requirement already satisfied: six>=1.5 in ./ocr-env/lib/python3.7/site-packages (from python-dateutil>=2.6.1->pandas>=0.25.3->tabula-py) (1.14.0)\n",
      "Installing collected packages: distro, tabula-py\n",
      "Successfully installed distro-1.4.0 tabula-py-2.1.0\n",
      "\u001b[33mYou are using pip version 19.0.3, however version 20.0.2 is available.\n",
      "You should consider upgrading via the 'pip install --upgrade pip' command.\u001b[0m\n"
     ]
    }
   ],
   "source": [
    "!pip3 install tabula-py"
   ]
  },
  {
   "cell_type": "code",
   "execution_count": 10,
   "metadata": {},
   "outputs": [
    {
     "ename": "ModuleNotFoundError",
     "evalue": "No module named 'tabula'",
     "output_type": "error",
     "traceback": [
      "\u001b[0;31m---------------------------------------------------------------------------\u001b[0m",
      "\u001b[0;31mModuleNotFoundError\u001b[0m                       Traceback (most recent call last)",
      "\u001b[0;32m<ipython-input-10-21d3fd5ede8c>\u001b[0m in \u001b[0;36m<module>\u001b[0;34m\u001b[0m\n\u001b[0;32m----> 1\u001b[0;31m \u001b[0;32mimport\u001b[0m \u001b[0mtabula\u001b[0m\u001b[0;34m\u001b[0m\u001b[0;34m\u001b[0m\u001b[0m\n\u001b[0m",
      "\u001b[0;31mModuleNotFoundError\u001b[0m: No module named 'tabula'"
     ]
    }
   ],
   "source": [
    "import tabula"
   ]
  },
  {
   "cell_type": "code",
   "execution_count": 2,
   "metadata": {},
   "outputs": [],
   "source": [
    "!source activate ocr-env"
   ]
  },
  {
   "cell_type": "code",
   "execution_count": 3,
   "metadata": {},
   "outputs": [
    {
     "name": "stdout",
     "output_type": "stream",
     "text": [
      "/Users/danielcaraway/ocr_corona/ocr-env/bin/python: No module named ipykernel\r\n"
     ]
    }
   ],
   "source": [
    "!python -m ipykernel install --user --name=ocr-env\n"
   ]
  },
  {
   "cell_type": "code",
   "execution_count": null,
   "metadata": {},
   "outputs": [],
   "source": []
  }
 ],
 "metadata": {
  "kernelspec": {
   "display_name": "Python 3",
   "language": "python",
   "name": "python3"
  },
  "language_info": {
   "codemirror_mode": {
    "name": "ipython",
    "version": 3
   },
   "file_extension": ".py",
   "mimetype": "text/x-python",
   "name": "python",
   "nbconvert_exporter": "python",
   "pygments_lexer": "ipython3",
   "version": "3.7.4"
  }
 },
 "nbformat": 4,
 "nbformat_minor": 2
}
